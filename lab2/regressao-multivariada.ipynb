{
 "cells": [
  {
   "cell_type": "markdown",
   "metadata": {},
   "source": [
    "# Regressão Linear Multivariada com NumPy"
   ]
  },
  {
   "cell_type": "markdown",
   "metadata": {},
   "source": [
    "<h2>\n",
    "<b>Author:</b> Caio Batista</h2>"
   ]
  },
  {
   "cell_type": "code",
   "execution_count": 79,
   "metadata": {
    "collapsed": true
   },
   "outputs": [],
   "source": [
    "import numpy as np\n",
    "import math\n",
    "import time\n",
    "from sklearn import linear_model\n",
    "from sklearn.metrics import mean_squared_error, r2_score\n",
    "import matplotlib.pyplot as plt\n",
    "import pandas as pd\n",
    "import statsmodels.formula.api as sm"
   ]
  },
  {
   "cell_type": "markdown",
   "metadata": {},
   "source": [
    "### Versão Vetorizada"
   ]
  },
  {
   "cell_type": "markdown",
   "metadata": {},
   "source": [
    "$MSE(\\hat{w})=\\frac{1}{N}(y-\\hat{\\mathbf{w}}^T\\mathbf{x})^T(y-\\hat{\\mathbf{w}}^T\\mathbf{x})$"
   ]
  },
  {
   "cell_type": "markdown",
   "metadata": {},
   "source": [
    "### Seleção de features"
   ]
  },
  {
   "cell_type": "markdown",
   "metadata": {},
   "source": [
    "Das dimensões que se encontram disponíveis para criarmos o modelo, foram escolhidas as disciplinas de <b>Cálculo 1</b> e <b>Introdução a Computação</b> que combinadas obtiveram o menor erro quadrado. Elas respectivamente estão descritos no [arquivo csv](https://canvas.instructure.com/courses/1198332/files/55584499/download?verifier=UvJGkZFGGe7WmktSFeBWe7zsZT8LOVvGW6FzRfKl) como <b>Cálculo1</b> e <b>IC</b>.\n"
   ]
  },
  {
   "cell_type": "code",
   "execution_count": 49,
   "metadata": {
    "collapsed": true
   },
   "outputs": [],
   "source": [
    "def compute_mse_vectorized(w,X,Y):\n",
    "    res = Y - np.dot(X,w)\n",
    "    totalError = np.dot(res.T,res)\n",
    "    return totalError / float(len(Y))"
   ]
  },
  {
   "cell_type": "code",
   "execution_count": 50,
   "metadata": {
    "collapsed": true
   },
   "outputs": [],
   "source": [
    "def step_gradient_vectorized(w_current,X,Y,learningRate):\n",
    "    res = Y - np.dot(X,w_current)\n",
    "    b_gradient = np.sum(res)\n",
    "    X = X[:,1][:,np.newaxis]\n",
    "    m_gradient = np.sum(np.multiply(res,X))\n",
    "    new_w = np.array([(w_current[0] + (2 * learningRate * b_gradient)),\n",
    "             (w_current[1] + (2 * learningRate * m_gradient))])\n",
    "    return [new_w,b_gradient,m_gradient]"
   ]
  },
  {
   "cell_type": "code",
   "execution_count": 51,
   "metadata": {
    "collapsed": true
   },
   "outputs": [],
   "source": [
    "def gradient_descent_runner_vectorized(starting_w, X,Y, learning_rate, epsilon):\n",
    "    w = starting_w\n",
    "    grad = np.array([np.inf,np.inf])\n",
    "    i = 0\n",
    "    while (np.linalg.norm(grad)>=epsilon):\n",
    "        w,b_gradient,m_gradient = step_gradient_vectorized(w, X, Y, learning_rate)\n",
    "        grad = np.array([b_gradient,m_gradient])\n",
    "        #print(np.linalg.norm(grad))\n",
    "        if i % 1000 == 0:\n",
    "            print(\"MSE na iteração {0} é de {1}\".format(i,compute_mse_vectorized(w, X, Y)))\n",
    "        i+= 1\n",
    "    return w"
   ]
  },
  {
   "cell_type": "code",
   "execution_count": 91,
   "metadata": {},
   "outputs": [
    {
     "name": "stdout",
     "output_type": "stream",
     "text": [
      "Starting gradient descent at w0 = [ 0.], w1 = [ 0.], error = [[ 54.47995386]]\n",
      "Running...\n",
      "MSE na iteração 0 é de [[ 5.89558809]]\n",
      "MSE na iteração 1000 é de [[ 0.5761655]]\n",
      "MSE na iteração 2000 é de [[ 0.68977175]]\n",
      "Gradiente descendente convergiu com w0 = [ 0.54025384], w1 = [ 0.42072107], error = [[ 0.69817919]]\n",
      "Versão vetorizada rodou em: 140.18630981445312 ms\n"
     ]
    }
   ],
   "source": [
    "points = np.genfromtxt(\"sample_treino.csv\", delimiter=\",\")\n",
    "points = np.c_[np.ones(len(points)),points]\n",
    "X = points[1:, [1,4]]\n",
    "Y = points[1:,-1][:,np.newaxis]\n",
    "init_w = np.zeros((2,1))\n",
    "learning_rate = 0.0001\n",
    "#num_iterations = 10000\n",
    "epsilon = 0.5\n",
    "print(\"Starting gradient descent at w0 = {0}, w1 = {1}, error = {2}\".format(init_w[0], init_w[1], compute_mse_vectorized(init_w, X,Y)))\n",
    "print(\"Running...\")\n",
    "tic = time.time()\n",
    "w = gradient_descent_runner_vectorized(init_w, X,Y, learning_rate, epsilon)\n",
    "toc = time.time()\n",
    "print(\"Gradiente descendente convergiu com w0 = {0}, w1 = {1}, error = {2}\".format(w[0], w[1], compute_mse_vectorized(w,X,Y)))\n",
    "print(\"Versão vetorizada rodou em: \" + str(1000*(toc-tic)) + \" ms\")\n"
   ]
  },
  {
   "cell_type": "markdown",
   "metadata": {},
   "source": [
    "# Regression scikit-learn"
   ]
  },
  {
   "cell_type": "markdown",
   "metadata": {},
   "source": [
    "### Cálculo usando o pacote \"sklearn\""
   ]
  },
  {
   "cell_type": "markdown",
   "metadata": {},
   "source": [
    "Utilizando a lib <b>sklearn</b> de Python, podemos criar um modelo linear baseado em scikit-learn. Como foi pedido no laboratório, aqui focaremos na comparação dos coeficientes feita entre os modelos da sessão anterio e dessa sessão. O objetivo aqui será avaliar qual desses modelos tem o menor erro para o caso de predição de notas para o CRA. "
   ]
  },
  {
   "cell_type": "markdown",
   "metadata": {},
   "source": [
    "### Seleção de features"
   ]
  },
  {
   "cell_type": "markdown",
   "metadata": {},
   "source": [
    "A seleção de features nesse caso foi a mesma que na sessão anterior, pois como queremos comparar os coeficientes nos mesmos cenários, apenas alterando o modelo linear, o restante das modificações se manteve a mesma."
   ]
  },
  {
   "cell_type": "markdown",
   "metadata": {},
   "source": [
    "### Divisão entre treino e teste"
   ]
  },
  {
   "cell_type": "markdown",
   "metadata": {},
   "source": [
    "Como a divisão de treino e teste era necessária para podermos verificar a acurácia do modelo, a divisão foi feita que 80% dos dados foram para treino e 20% para teste. "
   ]
  },
  {
   "cell_type": "markdown",
   "metadata": {},
   "source": [
    "### Código e plot"
   ]
  },
  {
   "cell_type": "code",
   "execution_count": 113,
   "metadata": {},
   "outputs": [
    {
     "name": "stdout",
     "output_type": "stream",
     "text": [
      "Coefficients:  [ 0.05853151  0.51561943]\n",
      "Mean squared error: 0.35\n",
      "Variance score: 0.52\n"
     ]
    },
    {
     "data": {
      "image/png": "[encoded data removed]",
      "text/plain": [
       "<matplotlib.figure.Figure at 0x7faeb6243198>"
      ]
     },
     "metadata": {},
     "output_type": "display_data"
    }
   ],
   "source": [
    "calc1 = points[1:,1]\n",
    "lpt = points[1:,2]\n",
    "p1 = points[1:,3]\n",
    "ic = points[1:,4]\n",
    "calc2 = points[1:,5]\n",
    "cra = points[1:,6]\n",
    "\n",
    "a = np.array([calc1,ic])\n",
    "a = a.transpose()\n",
    "a_train = a[:-20]\n",
    "a_test = a[-20:]\n",
    "\n",
    "b = cra\n",
    "\n",
    "b_train = b[:-20]\n",
    "b_test = b[-20:]\n",
    "\n",
    "clf = linear_model.LinearRegression()\n",
    "clf.fit(a_train, b_train)\n",
    "\n",
    "cra_pred = clf.predict(a_test)\n",
    "\n",
    "print('Coefficients: ', clf.coef_)\n",
    "\n",
    "print(\"Mean squared error: %.2f\"\n",
    "      % mean_squared_error(b_test, cra_pred))\n",
    "# Explained variance score: 1 is perfect prediction\n",
    "print('Variance score: %.2f' % r2_score(b_test, cra_pred))\n",
    "\n",
    "calc1_plot = a_test[:,0]\n",
    "ic_plot =  a_test[:,1]\n",
    "# Plot outputs\n",
    "plt.scatter(calc1_plot, b_test,  color='black')\n",
    "plt.scatter(ic_plot, b_test,  color='red')\n",
    "\n",
    "\n",
    "plt.show()"
   ]
  },
  {
   "cell_type": "markdown",
   "metadata": {},
   "source": [
    "### Conclusão dos resultados"
   ]
  },
  {
   "cell_type": "markdown",
   "metadata": {},
   "source": [
    "Após ambos algoritmos serem executados podemos ver que o erro para o scikit-learn foi quase <b>duas vezes menor</b> que o do gradiente descendente. A explicação para isso pode se dar por uma escolha de learning rate equivocada. Já para os valores dos coeficientes não podemos ver nenhuma diferença expressiva para w1, os valores são bem próximos, diferentemente para w0 que o valor chega a ser quase 10 vezes maior. O número de iterações para o gradiente descentente se manteve em 2000."
   ]
  },
  {
   "cell_type": "markdown",
   "metadata": {},
   "source": [
    "### Explicação plot"
   ]
  },
  {
   "cell_type": "markdown",
   "metadata": {},
   "source": [
    "O plot no final dessa sessão descreve o comportamento das duas features em relação ao cra, em forma de gráfico de dispersão."
   ]
  }
 ],
 "metadata": {
  "kernelspec": {
   "display_name": "Python 3",
   "language": "python",
   "name": "python3"
  },
  "language_info": {
   "codemirror_mode": {
    "name": "ipython",
    "version": 3
   },
   "file_extension": ".py",
   "mimetype": "text/x-python",
   "name": "python",
   "nbconvert_exporter": "python",
   "pygments_lexer": "ipython3",
   "version": "3.6.2"
  }
 },
 "nbformat": 4,
 "nbformat_minor": 2
}
